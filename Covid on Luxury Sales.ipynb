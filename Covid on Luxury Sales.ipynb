{
 "cells": [
  {
   "cell_type": "code",
   "execution_count": null,
   "metadata": {},
   "outputs": [],
   "source": [
    "pip install pandas-profiling"
   ]
  },
  {
   "cell_type": "code",
   "execution_count": 1,
   "metadata": {},
   "outputs": [],
   "source": [
    "import pandas as pd\n",
    "import numpy as np\n",
    "from pandas_profiling import ProfileReport"
   ]
  },
  {
   "cell_type": "code",
   "execution_count": 2,
   "metadata": {},
   "outputs": [
    {
     "name": "stderr",
     "output_type": "stream",
     "text": [
      "/Users/Anh/opt/anaconda3/lib/python3.7/site-packages/IPython/core/interactiveshell.py:3331: DtypeWarning: Columns (13,14,15) have mixed types.Specify dtype option on import or set low_memory=False.\n",
      "  exec(code_obj, self.user_global_ns, self.user_ns)\n"
     ]
    }
   ],
   "source": [
    "data = pd.read_csv('Clientele_Analysis.csv')"
   ]
  },
  {
   "cell_type": "code",
   "execution_count": 3,
   "metadata": {},
   "outputs": [],
   "source": [
    "# drop the index column\n",
    "data = data.drop('Unnamed: 0', axis=1)"
   ]
  },
  {
   "cell_type": "code",
   "execution_count": 4,
   "metadata": {},
   "outputs": [],
   "source": [
    "# drop empty column\n",
    "data = data.drop('Metrics', axis=1)"
   ]
  },
  {
   "cell_type": "code",
   "execution_count": 5,
   "metadata": {},
   "outputs": [
    {
     "data": {
      "text/html": [
       "<div>\n",
       "<style scoped>\n",
       "    .dataframe tbody tr th:only-of-type {\n",
       "        vertical-align: middle;\n",
       "    }\n",
       "\n",
       "    .dataframe tbody tr th {\n",
       "        vertical-align: top;\n",
       "    }\n",
       "\n",
       "    .dataframe thead th {\n",
       "        text-align: right;\n",
       "    }\n",
       "</style>\n",
       "<table border=\"1\" class=\"dataframe\">\n",
       "  <thead>\n",
       "    <tr style=\"text-align: right;\">\n",
       "      <th></th>\n",
       "      <th>Code Brand</th>\n",
       "      <th>Week</th>\n",
       "      <th>Week of Year Number</th>\n",
       "      <th>Department Group</th>\n",
       "      <th>Kering Location Subtype</th>\n",
       "      <th>Kering Region</th>\n",
       "      <th>Kering Clientele Area Regional</th>\n",
       "      <th>Kering Clientele Area Regional Group</th>\n",
       "      <th>Country / Region</th>\n",
       "      <th>Customer Country / Region</th>\n",
       "      <th>Kering District</th>\n",
       "      <th>Sales (Value)</th>\n",
       "      <th>Sales LY (Value)</th>\n",
       "      <th>Sales LY2 (Value)</th>\n",
       "    </tr>\n",
       "  </thead>\n",
       "  <tbody>\n",
       "    <tr>\n",
       "      <th>789225</th>\n",
       "      <td>51</td>\n",
       "      <td>Wk. 4 November 2021</td>\n",
       "      <td>48</td>\n",
       "      <td>OTHERS</td>\n",
       "      <td>Travel Retail</td>\n",
       "      <td>EMEA</td>\n",
       "      <td>Employee</td>\n",
       "      <td>Other</td>\n",
       "      <td>Italy</td>\n",
       "      <td>Not Defined</td>\n",
       "      <td>Western Europe</td>\n",
       "      <td>0</td>\n",
       "      <td>0</td>\n",
       "      <td>0</td>\n",
       "    </tr>\n",
       "    <tr>\n",
       "      <th>789226</th>\n",
       "      <td>51</td>\n",
       "      <td>Wk. 4 November 2021</td>\n",
       "      <td>48</td>\n",
       "      <td>OTHERS</td>\n",
       "      <td>Travel Retail</td>\n",
       "      <td>JAPAN</td>\n",
       "      <td>Local</td>\n",
       "      <td>Local</td>\n",
       "      <td>Japan</td>\n",
       "      <td>JAPAN</td>\n",
       "      <td>Japan</td>\n",
       "      <td>6</td>\n",
       "      <td>0</td>\n",
       "      <td>0</td>\n",
       "    </tr>\n",
       "    <tr>\n",
       "      <th>789227</th>\n",
       "      <td>51</td>\n",
       "      <td>Wk. 4 November 2021</td>\n",
       "      <td>48</td>\n",
       "      <td>OTHERS</td>\n",
       "      <td>Travel Retail</td>\n",
       "      <td>JAPAN</td>\n",
       "      <td>Korea</td>\n",
       "      <td>Tourist</td>\n",
       "      <td>Japan</td>\n",
       "      <td>Not Defined</td>\n",
       "      <td>Japan</td>\n",
       "      <td>1</td>\n",
       "      <td>0</td>\n",
       "      <td>0</td>\n",
       "    </tr>\n",
       "    <tr>\n",
       "      <th>789228</th>\n",
       "      <td>51</td>\n",
       "      <td>Wk. 4 November 2021</td>\n",
       "      <td>48</td>\n",
       "      <td>OTHERS</td>\n",
       "      <td>Travel Retail</td>\n",
       "      <td>JAPAN</td>\n",
       "      <td>Korea</td>\n",
       "      <td>Tourist</td>\n",
       "      <td>Japan</td>\n",
       "      <td>REPUBLIC OF KOREA</td>\n",
       "      <td>Japan</td>\n",
       "      <td>2</td>\n",
       "      <td>0</td>\n",
       "      <td>0</td>\n",
       "    </tr>\n",
       "    <tr>\n",
       "      <th>789229</th>\n",
       "      <td>51</td>\n",
       "      <td>Wk. 4 November 2021</td>\n",
       "      <td>48</td>\n",
       "      <td>OTHERS</td>\n",
       "      <td>Travel Retail</td>\n",
       "      <td>JAPAN</td>\n",
       "      <td>Clientele area not registered</td>\n",
       "      <td>Other</td>\n",
       "      <td>Japan</td>\n",
       "      <td>Not Defined</td>\n",
       "      <td>Japan</td>\n",
       "      <td>0</td>\n",
       "      <td>0</td>\n",
       "      <td>15</td>\n",
       "    </tr>\n",
       "  </tbody>\n",
       "</table>\n",
       "</div>"
      ],
      "text/plain": [
       "        Code Brand                 Week  Week of Year Number Department Group  \\\n",
       "789225          51  Wk. 4 November 2021                   48           OTHERS   \n",
       "789226          51  Wk. 4 November 2021                   48           OTHERS   \n",
       "789227          51  Wk. 4 November 2021                   48           OTHERS   \n",
       "789228          51  Wk. 4 November 2021                   48           OTHERS   \n",
       "789229          51  Wk. 4 November 2021                   48           OTHERS   \n",
       "\n",
       "       Kering Location Subtype Kering Region Kering Clientele Area Regional  \\\n",
       "789225           Travel Retail          EMEA                       Employee   \n",
       "789226           Travel Retail         JAPAN                          Local   \n",
       "789227           Travel Retail         JAPAN                          Korea   \n",
       "789228           Travel Retail         JAPAN                          Korea   \n",
       "789229           Travel Retail         JAPAN  Clientele area not registered   \n",
       "\n",
       "       Kering Clientele Area Regional Group Country / Region  \\\n",
       "789225                                Other            Italy   \n",
       "789226                                Local            Japan   \n",
       "789227                              Tourist            Japan   \n",
       "789228                              Tourist            Japan   \n",
       "789229                                Other            Japan   \n",
       "\n",
       "       Customer Country / Region Kering District Sales (Value)  \\\n",
       "789225               Not Defined  Western Europe             0   \n",
       "789226                     JAPAN           Japan             6   \n",
       "789227               Not Defined           Japan             1   \n",
       "789228         REPUBLIC OF KOREA           Japan             2   \n",
       "789229               Not Defined           Japan             0   \n",
       "\n",
       "       Sales LY (Value) Sales LY2 (Value)  \n",
       "789225                0                 0  \n",
       "789226                0                 0  \n",
       "789227                0                 0  \n",
       "789228                0                 0  \n",
       "789229                0                15  "
      ]
     },
     "execution_count": 5,
     "metadata": {},
     "output_type": "execute_result"
    }
   ],
   "source": [
    "data.tail(5)"
   ]
  },
  {
   "cell_type": "code",
   "execution_count": 6,
   "metadata": {},
   "outputs": [],
   "source": [
    "# clean the Sales columns because of format difference (\",\" for the thousand separator)\n",
    "data['Sales (Value)'] = data['Sales (Value)'].astype(str)\n",
    "data['Sales LY (Value)'] = data['Sales LY (Value)'].astype(str)\n",
    "data['Sales LY2 (Value)'] = data['Sales LY2 (Value)'].astype(str)"
   ]
  },
  {
   "cell_type": "code",
   "execution_count": 7,
   "metadata": {},
   "outputs": [],
   "source": [
    "data['Sales (Value)'] = data['Sales (Value)'].str.replace(',','')\n",
    "data['Sales LY (Value)'] = data['Sales LY (Value)'].str.replace(',','')\n",
    "data['Sales LY2 (Value)'] = data['Sales LY2 (Value)'].str.replace(',','')"
   ]
  },
  {
   "cell_type": "code",
   "execution_count": 8,
   "metadata": {},
   "outputs": [],
   "source": [
    "data['Sales (Value)'] = pd.to_numeric(data['Sales (Value)'])\n",
    "data['Sales LY (Value)'] = pd.to_numeric(data['Sales LY (Value)'])\n",
    "data['Sales LY2 (Value)'] = pd.to_numeric(data['Sales LY2 (Value)'])"
   ]
  },
  {
   "cell_type": "code",
   "execution_count": 9,
   "metadata": {},
   "outputs": [],
   "source": [
    "# generate profiling report\n",
    "profile = ProfileReport(data, title=\"Pandas Profiling Report\", explorative=True)"
   ]
  },
  {
   "cell_type": "code",
   "execution_count": 10,
   "metadata": {},
   "outputs": [
    {
     "data": {
      "application/vnd.jupyter.widget-view+json": {
       "model_id": "fc99188b45c945f7a6a7c398af766059",
       "version_major": 2,
       "version_minor": 0
      },
      "text/plain": [
       "Summarize dataset:   0%|          | 0/5 [00:00<?, ?it/s]"
      ]
     },
     "metadata": {},
     "output_type": "display_data"
    },
    {
     "name": "stderr",
     "output_type": "stream",
     "text": [
      "/Users/Anh/opt/anaconda3/lib/python3.7/site-packages/pandas_profiling/model/correlations.py:120: RuntimeWarning: invalid value encountered in greater_equal\n",
      "  bool_index = abs(correlation_matrix.values) >= threshold\n"
     ]
    },
    {
     "data": {
      "application/vnd.jupyter.widget-view+json": {
       "model_id": "910501bf8d7c4508af0f454e3324c54f",
       "version_major": 2,
       "version_minor": 0
      },
      "text/plain": [
       "Generate report structure:   0%|          | 0/1 [00:00<?, ?it/s]"
      ]
     },
     "metadata": {},
     "output_type": "display_data"
    },
    {
     "data": {
      "application/vnd.jupyter.widget-view+json": {
       "model_id": "dac2f4bbcebf46d5a14e7c198c119d9b",
       "version_major": 2,
       "version_minor": 0
      },
      "text/plain": [
       "Render HTML:   0%|          | 0/1 [00:00<?, ?it/s]"
      ]
     },
     "metadata": {},
     "output_type": "display_data"
    },
    {
     "data": {
      "application/vnd.jupyter.widget-view+json": {
       "model_id": "7385f859c0494adba495fe16e1548349",
       "version_major": 2,
       "version_minor": 0
      },
      "text/plain": [
       "Export report to file:   0%|          | 0/1 [00:00<?, ?it/s]"
      ]
     },
     "metadata": {},
     "output_type": "display_data"
    }
   ],
   "source": [
    "profile.to_file(\"Luxury_Sales.html\")"
   ]
  },
  {
   "cell_type": "code",
   "execution_count": 49,
   "metadata": {},
   "outputs": [],
   "source": [
    "sales = data"
   ]
  },
  {
   "cell_type": "code",
   "execution_count": 61,
   "metadata": {},
   "outputs": [],
   "source": [
    "# fill in Custom Country/Region column where it's Not Defined\n",
    "sales['Customer Country / Region'] = np.where((sales['Customer Country / Region'] == \"Not Defined\") \n",
    "                                              & (sales['Kering Clientele Area Regional Group'] == \"Local\"),\n",
    "                                              sales['Country / Region'],\n",
    "                                              sales['Customer Country / Region'])\n",
    "sales['Customer Country / Region'] = np.where((sales['Customer Country / Region'] == \"Not Defined\") \n",
    "                                              & (sales['Kering Location Subtype'] == \"E-Commerce\"),\n",
    "                                              sales['Country / Region'],\n",
    "                                              sales['Customer Country / Region'])\n",
    "sales['Customer Country / Region'] = np.where((sales['Customer Country / Region'] == \"Not Defined\") \n",
    "                                              & (sales['Kering Clientele Area Regional Group'] == \"Other\"),\n",
    "                                              sales['Kering Clientele Area Regional'],\n",
    "                                              sales['Customer Country / Region'])\n",
    "sales['Customer Country / Region'] = np.where((sales['Customer Country / Region'] == \"Not Defined\") \n",
    "                                              & (sales['Kering Clientele Area Regional Group'] == \"Tourist\"),\n",
    "                                              sales['Kering Clientele Area Regional'],\n",
    "                                              sales['Customer Country / Region'])"
   ]
  },
  {
   "cell_type": "code",
   "execution_count": 63,
   "metadata": {},
   "outputs": [
    {
     "data": {
      "application/vnd.jupyter.widget-view+json": {
       "model_id": "ff123b43a8f44a04ab68d3b90999febd",
       "version_major": 2,
       "version_minor": 0
      },
      "text/plain": [
       "Summarize dataset:   0%|          | 0/5 [00:00<?, ?it/s]"
      ]
     },
     "metadata": {},
     "output_type": "display_data"
    },
    {
     "name": "stderr",
     "output_type": "stream",
     "text": [
      "/Users/Anh/opt/anaconda3/lib/python3.7/site-packages/pandas_profiling/model/correlations.py:120: RuntimeWarning: invalid value encountered in greater_equal\n",
      "  bool_index = abs(correlation_matrix.values) >= threshold\n"
     ]
    },
    {
     "data": {
      "application/vnd.jupyter.widget-view+json": {
       "model_id": "8a8f1269bc014d1c938ddc4689522b0e",
       "version_major": 2,
       "version_minor": 0
      },
      "text/plain": [
       "Generate report structure:   0%|          | 0/1 [00:00<?, ?it/s]"
      ]
     },
     "metadata": {},
     "output_type": "display_data"
    },
    {
     "data": {
      "application/vnd.jupyter.widget-view+json": {
       "model_id": "771a688849fa4e44a81e3c0b134a36af",
       "version_major": 2,
       "version_minor": 0
      },
      "text/plain": [
       "Render HTML:   0%|          | 0/1 [00:00<?, ?it/s]"
      ]
     },
     "metadata": {},
     "output_type": "display_data"
    },
    {
     "data": {
      "application/vnd.jupyter.widget-view+json": {
       "model_id": "775c398a59d145608e67934950889ab1",
       "version_major": 2,
       "version_minor": 0
      },
      "text/plain": [
       "Export report to file:   0%|          | 0/1 [00:00<?, ?it/s]"
      ]
     },
     "metadata": {},
     "output_type": "display_data"
    }
   ],
   "source": [
    "profile2 = ProfileReport(data, title=\"Pandas Profiling Report\", explorative=True)\n",
    "profile2.to_file(\"Luxury_Sales v2.html\")"
   ]
  },
  {
   "cell_type": "code",
   "execution_count": null,
   "metadata": {},
   "outputs": [],
   "source": []
  }
 ],
 "metadata": {
  "kernelspec": {
   "display_name": "Python 3",
   "language": "python",
   "name": "python3"
  },
  "language_info": {
   "codemirror_mode": {
    "name": "ipython",
    "version": 3
   },
   "file_extension": ".py",
   "mimetype": "text/x-python",
   "name": "python",
   "nbconvert_exporter": "python",
   "pygments_lexer": "ipython3",
   "version": "3.7.6"
  }
 },
 "nbformat": 4,
 "nbformat_minor": 4
}
